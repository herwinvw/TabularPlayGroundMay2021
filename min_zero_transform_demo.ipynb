{
 "cells": [
  {
   "cell_type": "code",
   "execution_count": 10,
   "metadata": {},
   "outputs": [],
   "source": [
    "from sklearn.base import BaseEstimator, TransformerMixin # type: ignore\n",
    "from typing import List, Any\n",
    "\n",
    "import pandas as pd\n",
    "class MinZeroTransform(BaseEstimator, TransformerMixin):\n",
    "    \"\"\"\n",
    "    Transforms X to X-X.min(), so that the minimum is shifted to 0.\n",
    "    X.min() is learned in the fit.\n",
    "    \"\"\"\n",
    "    def transform(self, df:pd.DataFrame, **transform_params:Any)->pd.DataFrame:\n",
    "        return df - self.min()\n",
    "    \n",
    "    def fit(self, X:pd.DataFrame, y:Any=None, **fit_params:Any):\n",
    "        self.min = X.min()"
   ]
  },
  {
   "cell_type": "code",
   "execution_count": 11,
   "metadata": {},
   "outputs": [],
   "source": [
    "from min_zero_transform import MinZeroTransform"
   ]
  },
  {
   "cell_type": "code",
   "execution_count": null,
   "metadata": {},
   "outputs": [],
   "source": []
  }
 ],
 "metadata": {
  "kernelspec": {
   "display_name": "Python 3",
   "language": "python",
   "name": "python3"
  },
  "language_info": {
   "codemirror_mode": {
    "name": "ipython",
    "version": 3
   },
   "file_extension": ".py",
   "mimetype": "text/x-python",
   "name": "python",
   "nbconvert_exporter": "python",
   "pygments_lexer": "ipython3",
   "version": "3.8.3"
  }
 },
 "nbformat": 4,
 "nbformat_minor": 4
}

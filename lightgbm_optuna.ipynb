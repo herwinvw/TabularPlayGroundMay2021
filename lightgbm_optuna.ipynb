{
 "cells": [
  {
   "cell_type": "markdown",
   "metadata": {},
   "source": [
    "# LightGBM optuna optimization"
   ]
  },
  {
   "cell_type": "markdown",
   "metadata": {},
   "source": [
    "# Load data"
   ]
  },
  {
   "cell_type": "code",
   "execution_count": 1,
   "metadata": {},
   "outputs": [
    {
     "data": {
      "text/plain": [
       "(100000, 52)"
      ]
     },
     "execution_count": 1,
     "metadata": {},
     "output_type": "execute_result"
    }
   ],
   "source": [
    "import pandas as pd\n",
    "train = pd.read_csv('train.csv')\n",
    "test = pd.read_csv('test.csv')\n",
    "train.shape"
   ]
  },
  {
   "cell_type": "code",
   "execution_count": 2,
   "metadata": {},
   "outputs": [],
   "source": [
    "x_train = train.drop(columns=['id','target'])\n",
    "x_test = test.drop(columns=['id'])"
   ]
  },
  {
   "cell_type": "code",
   "execution_count": 11,
   "metadata": {},
   "outputs": [
    {
     "data": {
      "text/plain": [
       "array(['Class_1', 'Class_2', 'Class_3', 'Class_4'], dtype=object)"
      ]
     },
     "execution_count": 11,
     "metadata": {},
     "output_type": "execute_result"
    }
   ],
   "source": [
    "from sklearn.preprocessing import LabelEncoder\n",
    "le = LabelEncoder()\n",
    "le.fit(train['target'].unique())\n",
    "le.classes_"
   ]
  },
  {
   "cell_type": "code",
   "execution_count": 12,
   "metadata": {},
   "outputs": [
    {
     "data": {
      "text/plain": [
       "array([1, 0, 0, ..., 2, 1, 2])"
      ]
     },
     "execution_count": 12,
     "metadata": {},
     "output_type": "execute_result"
    }
   ],
   "source": [
    "y_train = le.transform(train['target'])\n",
    "y_train"
   ]
  },
  {
   "cell_type": "markdown",
   "metadata": {},
   "source": [
    "# Optuna optimization"
   ]
  },
  {
   "cell_type": "code",
   "execution_count": 21,
   "metadata": {},
   "outputs": [],
   "source": [
    "import optuna\n",
    "from lightgbm import Dataset\n",
    "import lightgbm\n",
    "def objective(trial):\n",
    "    params = {'min_child_samples':trial.suggest_int(\"min_child_samples\", 1, 5000, log=True),\n",
    "              'max_depth':trial.suggest_int(\"max_depth\", 1, 50),\n",
    "              'reg_lambda': trial.suggest_float(\"reg_lambda\", 0.0001, 25, log=True),\n",
    "              'reg_alpha': trial.suggest_float(\"reg_alpha\", 0.0001, 25, log=True),\n",
    "              'colsample_bytree': trial.suggest_float(\"colsample_bytree\", 0.1, 1),\n",
    "              'num_leaves': trial.suggest_int(\"num_leaves\", 5, 5000, log=True),\n",
    "              'cat_smooth': trial.suggest_int(\"cat_smooth\", 0, 100),\n",
    "              'is_unbalance':trial.suggest_categorical('is_unbalance',[True,False]),\n",
    "              'objective':'multiclass',\n",
    "              'verbose':0,\n",
    "              'force_row_wise':True,\n",
    "              'num_class':4\n",
    "             }\n",
    "    n_estimators = 20000              \n",
    "    train_set = Dataset(data=x_train, label=y_train)\n",
    "    pruning_callback = optuna.integration.LightGBMPruningCallback(trial, \"multi_logloss\")\n",
    "    result = lightgbm.cv(params, train_set, metrics='multi_logloss', num_boost_round=n_estimators,\n",
    "                         early_stopping_rounds=200, return_cvbooster=True, verbose_eval=0, \n",
    "                         callbacks=[pruning_callback])\n",
    "    print(f\"best iteration: {result['cvbooster'].best_iteration} of {n_estimators}\")    \n",
    "    return result['multi_logloss-mean'][-1]"
   ]
  },
  {
   "cell_type": "code",
   "execution_count": null,
   "metadata": {},
   "outputs": [
    {
     "name": "stderr",
     "output_type": "stream",
     "text": [
      "\u001b[32m[I 2021-05-04 23:04:35,512]\u001b[0m A new study created in memory with name: no-name-78a4dee0-01a0-48e9-84b2-c909eb13bea8\u001b[0m\n"
     ]
    }
   ],
   "source": [
    "study = optuna.create_study(direction=\"minimize\", pruner=optuna.pruners.MedianPruner())\n",
    "study.optimize(objective, timeout=60)\n",
    "print(study.best_trial)"
   ]
  },
  {
   "cell_type": "markdown",
   "metadata": {},
   "source": [
    "# Plot results"
   ]
  },
  {
   "cell_type": "code",
   "execution_count": null,
   "metadata": {},
   "outputs": [],
   "source": [
    "from optuna.visualization import plot_optimization_history, plot_param_importances\n",
    "plot_optimization_history(study)"
   ]
  },
  {
   "cell_type": "code",
   "execution_count": null,
   "metadata": {},
   "outputs": [],
   "source": [
    "plot_param_importances(study)"
   ]
  },
  {
   "cell_type": "code",
   "execution_count": null,
   "metadata": {},
   "outputs": [],
   "source": []
  }
 ],
 "metadata": {
  "kernelspec": {
   "display_name": "Python 3",
   "language": "python",
   "name": "python3"
  },
  "language_info": {
   "codemirror_mode": {
    "name": "ipython",
    "version": 3
   },
   "file_extension": ".py",
   "mimetype": "text/x-python",
   "name": "python",
   "nbconvert_exporter": "python",
   "pygments_lexer": "ipython3",
   "version": "3.8.3"
  }
 },
 "nbformat": 4,
 "nbformat_minor": 4
}

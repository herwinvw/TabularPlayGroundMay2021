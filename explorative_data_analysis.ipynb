{
 "cells": [
  {
   "cell_type": "markdown",
   "metadata": {},
   "source": [
    "# Loading the data"
   ]
  },
  {
   "cell_type": "code",
   "execution_count": 1,
   "metadata": {},
   "outputs": [
    {
     "data": {
      "text/plain": [
       "(100000, 52)"
      ]
     },
     "execution_count": 1,
     "metadata": {},
     "output_type": "execute_result"
    }
   ],
   "source": [
    "import pandas as pd\n",
    "train = pd.read_csv('train.csv')\n",
    "train.shape"
   ]
  },
  {
   "cell_type": "code",
   "execution_count": 3,
   "metadata": {},
   "outputs": [
    {
     "data": {
      "text/plain": [
       "(50000, 51)"
      ]
     },
     "execution_count": 3,
     "metadata": {},
     "output_type": "execute_result"
    }
   ],
   "source": [
    "test = pd.read_csv('test.csv')\n",
    "test.shape"
   ]
  },
  {
   "cell_type": "code",
   "execution_count": 10,
   "metadata": {},
   "outputs": [
    {
     "data": {
      "text/html": [
       "<div>\n",
       "<style scoped>\n",
       "    .dataframe tbody tr th:only-of-type {\n",
       "        vertical-align: middle;\n",
       "    }\n",
       "\n",
       "    .dataframe tbody tr th {\n",
       "        vertical-align: top;\n",
       "    }\n",
       "\n",
       "    .dataframe thead th {\n",
       "        text-align: right;\n",
       "    }\n",
       "</style>\n",
       "<table border=\"1\" class=\"dataframe\">\n",
       "  <thead>\n",
       "    <tr style=\"text-align: right;\">\n",
       "      <th></th>\n",
       "      <th>id</th>\n",
       "      <th>feature_0</th>\n",
       "      <th>feature_1</th>\n",
       "      <th>feature_2</th>\n",
       "      <th>feature_3</th>\n",
       "      <th>feature_4</th>\n",
       "      <th>feature_5</th>\n",
       "      <th>feature_6</th>\n",
       "      <th>feature_7</th>\n",
       "      <th>feature_8</th>\n",
       "      <th>...</th>\n",
       "      <th>feature_41</th>\n",
       "      <th>feature_42</th>\n",
       "      <th>feature_43</th>\n",
       "      <th>feature_44</th>\n",
       "      <th>feature_45</th>\n",
       "      <th>feature_46</th>\n",
       "      <th>feature_47</th>\n",
       "      <th>feature_48</th>\n",
       "      <th>feature_49</th>\n",
       "      <th>target</th>\n",
       "    </tr>\n",
       "  </thead>\n",
       "  <tbody>\n",
       "    <tr>\n",
       "      <th>0</th>\n",
       "      <td>0</td>\n",
       "      <td>0</td>\n",
       "      <td>0</td>\n",
       "      <td>1</td>\n",
       "      <td>0</td>\n",
       "      <td>1</td>\n",
       "      <td>0</td>\n",
       "      <td>0</td>\n",
       "      <td>0</td>\n",
       "      <td>0</td>\n",
       "      <td>...</td>\n",
       "      <td>0</td>\n",
       "      <td>0</td>\n",
       "      <td>21</td>\n",
       "      <td>0</td>\n",
       "      <td>0</td>\n",
       "      <td>0</td>\n",
       "      <td>0</td>\n",
       "      <td>0</td>\n",
       "      <td>0</td>\n",
       "      <td>Class_2</td>\n",
       "    </tr>\n",
       "    <tr>\n",
       "      <th>1</th>\n",
       "      <td>1</td>\n",
       "      <td>0</td>\n",
       "      <td>0</td>\n",
       "      <td>0</td>\n",
       "      <td>0</td>\n",
       "      <td>2</td>\n",
       "      <td>1</td>\n",
       "      <td>0</td>\n",
       "      <td>0</td>\n",
       "      <td>0</td>\n",
       "      <td>...</td>\n",
       "      <td>0</td>\n",
       "      <td>0</td>\n",
       "      <td>0</td>\n",
       "      <td>0</td>\n",
       "      <td>0</td>\n",
       "      <td>0</td>\n",
       "      <td>0</td>\n",
       "      <td>0</td>\n",
       "      <td>0</td>\n",
       "      <td>Class_1</td>\n",
       "    </tr>\n",
       "    <tr>\n",
       "      <th>2</th>\n",
       "      <td>2</td>\n",
       "      <td>0</td>\n",
       "      <td>0</td>\n",
       "      <td>0</td>\n",
       "      <td>0</td>\n",
       "      <td>0</td>\n",
       "      <td>0</td>\n",
       "      <td>0</td>\n",
       "      <td>0</td>\n",
       "      <td>0</td>\n",
       "      <td>...</td>\n",
       "      <td>0</td>\n",
       "      <td>1</td>\n",
       "      <td>0</td>\n",
       "      <td>0</td>\n",
       "      <td>0</td>\n",
       "      <td>0</td>\n",
       "      <td>13</td>\n",
       "      <td>2</td>\n",
       "      <td>0</td>\n",
       "      <td>Class_1</td>\n",
       "    </tr>\n",
       "    <tr>\n",
       "      <th>3</th>\n",
       "      <td>3</td>\n",
       "      <td>0</td>\n",
       "      <td>0</td>\n",
       "      <td>0</td>\n",
       "      <td>0</td>\n",
       "      <td>0</td>\n",
       "      <td>0</td>\n",
       "      <td>0</td>\n",
       "      <td>3</td>\n",
       "      <td>0</td>\n",
       "      <td>...</td>\n",
       "      <td>0</td>\n",
       "      <td>0</td>\n",
       "      <td>0</td>\n",
       "      <td>0</td>\n",
       "      <td>0</td>\n",
       "      <td>0</td>\n",
       "      <td>0</td>\n",
       "      <td>1</td>\n",
       "      <td>0</td>\n",
       "      <td>Class_4</td>\n",
       "    </tr>\n",
       "    <tr>\n",
       "      <th>4</th>\n",
       "      <td>4</td>\n",
       "      <td>0</td>\n",
       "      <td>0</td>\n",
       "      <td>0</td>\n",
       "      <td>0</td>\n",
       "      <td>0</td>\n",
       "      <td>0</td>\n",
       "      <td>0</td>\n",
       "      <td>0</td>\n",
       "      <td>0</td>\n",
       "      <td>...</td>\n",
       "      <td>0</td>\n",
       "      <td>0</td>\n",
       "      <td>0</td>\n",
       "      <td>0</td>\n",
       "      <td>0</td>\n",
       "      <td>0</td>\n",
       "      <td>0</td>\n",
       "      <td>1</td>\n",
       "      <td>0</td>\n",
       "      <td>Class_2</td>\n",
       "    </tr>\n",
       "  </tbody>\n",
       "</table>\n",
       "<p>5 rows × 52 columns</p>\n",
       "</div>"
      ],
      "text/plain": [
       "   id  feature_0  feature_1  feature_2  feature_3  feature_4  feature_5  \\\n",
       "0   0          0          0          1          0          1          0   \n",
       "1   1          0          0          0          0          2          1   \n",
       "2   2          0          0          0          0          0          0   \n",
       "3   3          0          0          0          0          0          0   \n",
       "4   4          0          0          0          0          0          0   \n",
       "\n",
       "   feature_6  feature_7  feature_8  ...  feature_41  feature_42  feature_43  \\\n",
       "0          0          0          0  ...           0           0          21   \n",
       "1          0          0          0  ...           0           0           0   \n",
       "2          0          0          0  ...           0           1           0   \n",
       "3          0          3          0  ...           0           0           0   \n",
       "4          0          0          0  ...           0           0           0   \n",
       "\n",
       "   feature_44  feature_45  feature_46  feature_47  feature_48  feature_49  \\\n",
       "0           0           0           0           0           0           0   \n",
       "1           0           0           0           0           0           0   \n",
       "2           0           0           0          13           2           0   \n",
       "3           0           0           0           0           1           0   \n",
       "4           0           0           0           0           1           0   \n",
       "\n",
       "    target  \n",
       "0  Class_2  \n",
       "1  Class_1  \n",
       "2  Class_1  \n",
       "3  Class_4  \n",
       "4  Class_2  \n",
       "\n",
       "[5 rows x 52 columns]"
      ]
     },
     "execution_count": 10,
     "metadata": {},
     "output_type": "execute_result"
    }
   ],
   "source": [
    "train.head()"
   ]
  },
  {
   "cell_type": "markdown",
   "metadata": {},
   "source": [
    "# Target distribution"
   ]
  },
  {
   "cell_type": "code",
   "execution_count": 11,
   "metadata": {},
   "outputs": [
    {
     "data": {
      "text/plain": [
       "target\n",
       "Class_1    0.08490\n",
       "Class_2    0.57497\n",
       "Class_3    0.21420\n",
       "Class_4    0.12593\n",
       "Name: target, dtype: float64"
      ]
     },
     "execution_count": 11,
     "metadata": {},
     "output_type": "execute_result"
    }
   ],
   "source": [
    "train.groupby('target')['target'].size()/len(train)"
   ]
  },
  {
   "cell_type": "markdown",
   "metadata": {},
   "source": [
    "# Feature info"
   ]
  },
  {
   "cell_type": "code",
   "execution_count": 12,
   "metadata": {},
   "outputs": [
    {
     "name": "stdout",
     "output_type": "stream",
     "text": [
      "<class 'pandas.core.frame.DataFrame'>\n",
      "RangeIndex: 100000 entries, 0 to 99999\n",
      "Data columns (total 52 columns):\n",
      " #   Column      Non-Null Count   Dtype \n",
      "---  ------      --------------   ----- \n",
      " 0   id          100000 non-null  int64 \n",
      " 1   feature_0   100000 non-null  int64 \n",
      " 2   feature_1   100000 non-null  int64 \n",
      " 3   feature_2   100000 non-null  int64 \n",
      " 4   feature_3   100000 non-null  int64 \n",
      " 5   feature_4   100000 non-null  int64 \n",
      " 6   feature_5   100000 non-null  int64 \n",
      " 7   feature_6   100000 non-null  int64 \n",
      " 8   feature_7   100000 non-null  int64 \n",
      " 9   feature_8   100000 non-null  int64 \n",
      " 10  feature_9   100000 non-null  int64 \n",
      " 11  feature_10  100000 non-null  int64 \n",
      " 12  feature_11  100000 non-null  int64 \n",
      " 13  feature_12  100000 non-null  int64 \n",
      " 14  feature_13  100000 non-null  int64 \n",
      " 15  feature_14  100000 non-null  int64 \n",
      " 16  feature_15  100000 non-null  int64 \n",
      " 17  feature_16  100000 non-null  int64 \n",
      " 18  feature_17  100000 non-null  int64 \n",
      " 19  feature_18  100000 non-null  int64 \n",
      " 20  feature_19  100000 non-null  int64 \n",
      " 21  feature_20  100000 non-null  int64 \n",
      " 22  feature_21  100000 non-null  int64 \n",
      " 23  feature_22  100000 non-null  int64 \n",
      " 24  feature_23  100000 non-null  int64 \n",
      " 25  feature_24  100000 non-null  int64 \n",
      " 26  feature_25  100000 non-null  int64 \n",
      " 27  feature_26  100000 non-null  int64 \n",
      " 28  feature_27  100000 non-null  int64 \n",
      " 29  feature_28  100000 non-null  int64 \n",
      " 30  feature_29  100000 non-null  int64 \n",
      " 31  feature_30  100000 non-null  int64 \n",
      " 32  feature_31  100000 non-null  int64 \n",
      " 33  feature_32  100000 non-null  int64 \n",
      " 34  feature_33  100000 non-null  int64 \n",
      " 35  feature_34  100000 non-null  int64 \n",
      " 36  feature_35  100000 non-null  int64 \n",
      " 37  feature_36  100000 non-null  int64 \n",
      " 38  feature_37  100000 non-null  int64 \n",
      " 39  feature_38  100000 non-null  int64 \n",
      " 40  feature_39  100000 non-null  int64 \n",
      " 41  feature_40  100000 non-null  int64 \n",
      " 42  feature_41  100000 non-null  int64 \n",
      " 43  feature_42  100000 non-null  int64 \n",
      " 44  feature_43  100000 non-null  int64 \n",
      " 45  feature_44  100000 non-null  int64 \n",
      " 46  feature_45  100000 non-null  int64 \n",
      " 47  feature_46  100000 non-null  int64 \n",
      " 48  feature_47  100000 non-null  int64 \n",
      " 49  feature_48  100000 non-null  int64 \n",
      " 50  feature_49  100000 non-null  int64 \n",
      " 51  target      100000 non-null  object\n",
      "dtypes: int64(51), object(1)\n",
      "memory usage: 39.7+ MB\n"
     ]
    }
   ],
   "source": [
    "train.info()"
   ]
  },
  {
   "cell_type": "code",
   "execution_count": 13,
   "metadata": {},
   "outputs": [
    {
     "name": "stdout",
     "output_type": "stream",
     "text": [
      "<class 'pandas.core.frame.DataFrame'>\n",
      "RangeIndex: 50000 entries, 0 to 49999\n",
      "Data columns (total 51 columns):\n",
      " #   Column      Non-Null Count  Dtype\n",
      "---  ------      --------------  -----\n",
      " 0   id          50000 non-null  int64\n",
      " 1   feature_0   50000 non-null  int64\n",
      " 2   feature_1   50000 non-null  int64\n",
      " 3   feature_2   50000 non-null  int64\n",
      " 4   feature_3   50000 non-null  int64\n",
      " 5   feature_4   50000 non-null  int64\n",
      " 6   feature_5   50000 non-null  int64\n",
      " 7   feature_6   50000 non-null  int64\n",
      " 8   feature_7   50000 non-null  int64\n",
      " 9   feature_8   50000 non-null  int64\n",
      " 10  feature_9   50000 non-null  int64\n",
      " 11  feature_10  50000 non-null  int64\n",
      " 12  feature_11  50000 non-null  int64\n",
      " 13  feature_12  50000 non-null  int64\n",
      " 14  feature_13  50000 non-null  int64\n",
      " 15  feature_14  50000 non-null  int64\n",
      " 16  feature_15  50000 non-null  int64\n",
      " 17  feature_16  50000 non-null  int64\n",
      " 18  feature_17  50000 non-null  int64\n",
      " 19  feature_18  50000 non-null  int64\n",
      " 20  feature_19  50000 non-null  int64\n",
      " 21  feature_20  50000 non-null  int64\n",
      " 22  feature_21  50000 non-null  int64\n",
      " 23  feature_22  50000 non-null  int64\n",
      " 24  feature_23  50000 non-null  int64\n",
      " 25  feature_24  50000 non-null  int64\n",
      " 26  feature_25  50000 non-null  int64\n",
      " 27  feature_26  50000 non-null  int64\n",
      " 28  feature_27  50000 non-null  int64\n",
      " 29  feature_28  50000 non-null  int64\n",
      " 30  feature_29  50000 non-null  int64\n",
      " 31  feature_30  50000 non-null  int64\n",
      " 32  feature_31  50000 non-null  int64\n",
      " 33  feature_32  50000 non-null  int64\n",
      " 34  feature_33  50000 non-null  int64\n",
      " 35  feature_34  50000 non-null  int64\n",
      " 36  feature_35  50000 non-null  int64\n",
      " 37  feature_36  50000 non-null  int64\n",
      " 38  feature_37  50000 non-null  int64\n",
      " 39  feature_38  50000 non-null  int64\n",
      " 40  feature_39  50000 non-null  int64\n",
      " 41  feature_40  50000 non-null  int64\n",
      " 42  feature_41  50000 non-null  int64\n",
      " 43  feature_42  50000 non-null  int64\n",
      " 44  feature_43  50000 non-null  int64\n",
      " 45  feature_44  50000 non-null  int64\n",
      " 46  feature_45  50000 non-null  int64\n",
      " 47  feature_46  50000 non-null  int64\n",
      " 48  feature_47  50000 non-null  int64\n",
      " 49  feature_48  50000 non-null  int64\n",
      " 50  feature_49  50000 non-null  int64\n",
      "dtypes: int64(51)\n",
      "memory usage: 19.5 MB\n"
     ]
    }
   ],
   "source": [
    "test.info()"
   ]
  },
  {
   "cell_type": "markdown",
   "metadata": {},
   "source": [
    "Features are all integer"
   ]
  },
  {
   "cell_type": "code",
   "execution_count": 15,
   "metadata": {},
   "outputs": [
    {
     "data": {
      "text/plain": [
       "id                  0\n",
       "feature_0           0\n",
       "feature_1           0\n",
       "feature_2           0\n",
       "feature_3           0\n",
       "feature_4           0\n",
       "feature_5           0\n",
       "feature_6           0\n",
       "feature_7           0\n",
       "feature_8           0\n",
       "feature_9           0\n",
       "feature_10          0\n",
       "feature_11          0\n",
       "feature_12          0\n",
       "feature_13          0\n",
       "feature_14          0\n",
       "feature_15          0\n",
       "feature_16          0\n",
       "feature_17          0\n",
       "feature_18          0\n",
       "feature_19         -2\n",
       "feature_20          0\n",
       "feature_21          0\n",
       "feature_22          0\n",
       "feature_23          0\n",
       "feature_24          0\n",
       "feature_25          0\n",
       "feature_26          0\n",
       "feature_27          0\n",
       "feature_28          0\n",
       "feature_29          0\n",
       "feature_30         -1\n",
       "feature_31         -1\n",
       "feature_32         -2\n",
       "feature_33          0\n",
       "feature_34          0\n",
       "feature_35         -2\n",
       "feature_36          0\n",
       "feature_37          0\n",
       "feature_38         -8\n",
       "feature_39         -5\n",
       "feature_40          0\n",
       "feature_41          0\n",
       "feature_42         -2\n",
       "feature_43          0\n",
       "feature_44          0\n",
       "feature_45          0\n",
       "feature_46          0\n",
       "feature_47          0\n",
       "feature_48          0\n",
       "feature_49          0\n",
       "target        Class_1\n",
       "dtype: object"
      ]
     },
     "execution_count": 15,
     "metadata": {},
     "output_type": "execute_result"
    }
   ],
   "source": [
    "train.min()"
   ]
  },
  {
   "cell_type": "code",
   "execution_count": 16,
   "metadata": {},
   "outputs": [
    {
     "data": {
      "text/plain": [
       "id              99999\n",
       "feature_0          10\n",
       "feature_1          31\n",
       "feature_2           6\n",
       "feature_3          26\n",
       "feature_4          38\n",
       "feature_5          10\n",
       "feature_6          27\n",
       "feature_7          31\n",
       "feature_8          39\n",
       "feature_9          17\n",
       "feature_10         16\n",
       "feature_11         12\n",
       "feature_12         11\n",
       "feature_13          3\n",
       "feature_14         51\n",
       "feature_15         20\n",
       "feature_16         19\n",
       "feature_17         16\n",
       "feature_18         13\n",
       "feature_19         55\n",
       "feature_20         17\n",
       "feature_21         36\n",
       "feature_22          4\n",
       "feature_23         19\n",
       "feature_24         34\n",
       "feature_25         23\n",
       "feature_26         21\n",
       "feature_27         31\n",
       "feature_28         23\n",
       "feature_29         13\n",
       "feature_30         41\n",
       "feature_31         46\n",
       "feature_32         27\n",
       "feature_33         24\n",
       "feature_34         25\n",
       "feature_35         43\n",
       "feature_36          3\n",
       "feature_37         14\n",
       "feature_38         66\n",
       "feature_39         66\n",
       "feature_40         21\n",
       "feature_41         32\n",
       "feature_42         37\n",
       "feature_43         33\n",
       "feature_44          9\n",
       "feature_45         26\n",
       "feature_46         29\n",
       "feature_47         25\n",
       "feature_48         44\n",
       "feature_49         20\n",
       "target        Class_4\n",
       "dtype: object"
      ]
     },
     "execution_count": 16,
     "metadata": {},
     "output_type": "execute_result"
    }
   ],
   "source": [
    "train.max()"
   ]
  },
  {
   "cell_type": "markdown",
   "metadata": {},
   "source": [
    "Not sure what to do with the ints.. Are they categories? Counts? Continuous variables?"
   ]
  }
 ],
 "metadata": {
  "kernelspec": {
   "display_name": "Python 3",
   "language": "python",
   "name": "python3"
  },
  "language_info": {
   "codemirror_mode": {
    "name": "ipython",
    "version": 3
   },
   "file_extension": ".py",
   "mimetype": "text/x-python",
   "name": "python",
   "nbconvert_exporter": "python",
   "pygments_lexer": "ipython3",
   "version": "3.8.3"
  }
 },
 "nbformat": 4,
 "nbformat_minor": 4
}
